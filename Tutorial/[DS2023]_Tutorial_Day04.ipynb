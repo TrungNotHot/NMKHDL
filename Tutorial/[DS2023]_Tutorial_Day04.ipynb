{
  "cells": [
    {
      "cell_type": "markdown",
      "metadata": {
        "id": "2zW0OBJPz7_Y"
      },
      "source": [
        "[![Open in Colab](https://colab.research.google.com/assets/colab-badge.svg)](https://colab.research.google.com/drive/1RTTgkDdDDkPdZd6vt4MoCV66BRbWgcRx?usp=sharing)\n",
        "\n",
        "# K-Means Clustering Algorithm"
      ]
    },
    {
      "cell_type": "code",
      "execution_count": 1,
      "metadata": {
        "id": "B3bEHkC2QEWI"
      },
      "outputs": [],
      "source": [
        "import numpy as np\n",
        "import pandas as pd"
      ]
    },
    {
      "cell_type": "code",
      "execution_count": 2,
      "metadata": {
        "id": "2WlTjZalQ5z2"
      },
      "outputs": [],
      "source": [
        "data = pd.read_csv('https://archive.ics.uci.edu/ml/machine-learning-databases/wine/wine.data', header=None)"
      ]
    },
    {
      "cell_type": "code",
      "execution_count": 3,
      "metadata": {
        "colab": {
          "base_uri": "https://localhost:8080/",
          "height": 206
        },
        "id": "KP-RWPuvRLIh",
        "outputId": "dd91e0ab-f67a-4427-bd90-ed31bd0508bd"
      },
      "outputs": [
        {
          "data": {
            "text/html": [
              "<div>\n",
              "<style scoped>\n",
              "    .dataframe tbody tr th:only-of-type {\n",
              "        vertical-align: middle;\n",
              "    }\n",
              "\n",
              "    .dataframe tbody tr th {\n",
              "        vertical-align: top;\n",
              "    }\n",
              "\n",
              "    .dataframe thead th {\n",
              "        text-align: right;\n",
              "    }\n",
              "</style>\n",
              "<table border=\"1\" class=\"dataframe\">\n",
              "  <thead>\n",
              "    <tr style=\"text-align: right;\">\n",
              "      <th></th>\n",
              "      <th>0</th>\n",
              "      <th>1</th>\n",
              "      <th>2</th>\n",
              "      <th>3</th>\n",
              "      <th>4</th>\n",
              "      <th>5</th>\n",
              "      <th>6</th>\n",
              "      <th>7</th>\n",
              "      <th>8</th>\n",
              "      <th>9</th>\n",
              "      <th>10</th>\n",
              "      <th>11</th>\n",
              "      <th>12</th>\n",
              "      <th>13</th>\n",
              "    </tr>\n",
              "  </thead>\n",
              "  <tbody>\n",
              "    <tr>\n",
              "      <th>0</th>\n",
              "      <td>1</td>\n",
              "      <td>14.23</td>\n",
              "      <td>1.71</td>\n",
              "      <td>2.43</td>\n",
              "      <td>15.6</td>\n",
              "      <td>127</td>\n",
              "      <td>2.80</td>\n",
              "      <td>3.06</td>\n",
              "      <td>0.28</td>\n",
              "      <td>2.29</td>\n",
              "      <td>5.64</td>\n",
              "      <td>1.04</td>\n",
              "      <td>3.92</td>\n",
              "      <td>1065</td>\n",
              "    </tr>\n",
              "    <tr>\n",
              "      <th>1</th>\n",
              "      <td>1</td>\n",
              "      <td>13.20</td>\n",
              "      <td>1.78</td>\n",
              "      <td>2.14</td>\n",
              "      <td>11.2</td>\n",
              "      <td>100</td>\n",
              "      <td>2.65</td>\n",
              "      <td>2.76</td>\n",
              "      <td>0.26</td>\n",
              "      <td>1.28</td>\n",
              "      <td>4.38</td>\n",
              "      <td>1.05</td>\n",
              "      <td>3.40</td>\n",
              "      <td>1050</td>\n",
              "    </tr>\n",
              "    <tr>\n",
              "      <th>2</th>\n",
              "      <td>1</td>\n",
              "      <td>13.16</td>\n",
              "      <td>2.36</td>\n",
              "      <td>2.67</td>\n",
              "      <td>18.6</td>\n",
              "      <td>101</td>\n",
              "      <td>2.80</td>\n",
              "      <td>3.24</td>\n",
              "      <td>0.30</td>\n",
              "      <td>2.81</td>\n",
              "      <td>5.68</td>\n",
              "      <td>1.03</td>\n",
              "      <td>3.17</td>\n",
              "      <td>1185</td>\n",
              "    </tr>\n",
              "    <tr>\n",
              "      <th>3</th>\n",
              "      <td>1</td>\n",
              "      <td>14.37</td>\n",
              "      <td>1.95</td>\n",
              "      <td>2.50</td>\n",
              "      <td>16.8</td>\n",
              "      <td>113</td>\n",
              "      <td>3.85</td>\n",
              "      <td>3.49</td>\n",
              "      <td>0.24</td>\n",
              "      <td>2.18</td>\n",
              "      <td>7.80</td>\n",
              "      <td>0.86</td>\n",
              "      <td>3.45</td>\n",
              "      <td>1480</td>\n",
              "    </tr>\n",
              "    <tr>\n",
              "      <th>4</th>\n",
              "      <td>1</td>\n",
              "      <td>13.24</td>\n",
              "      <td>2.59</td>\n",
              "      <td>2.87</td>\n",
              "      <td>21.0</td>\n",
              "      <td>118</td>\n",
              "      <td>2.80</td>\n",
              "      <td>2.69</td>\n",
              "      <td>0.39</td>\n",
              "      <td>1.82</td>\n",
              "      <td>4.32</td>\n",
              "      <td>1.04</td>\n",
              "      <td>2.93</td>\n",
              "      <td>735</td>\n",
              "    </tr>\n",
              "  </tbody>\n",
              "</table>\n",
              "</div>"
            ],
            "text/plain": [
              "   0      1     2     3     4    5     6     7     8     9     10    11    12  \\\n",
              "0   1  14.23  1.71  2.43  15.6  127  2.80  3.06  0.28  2.29  5.64  1.04  3.92   \n",
              "1   1  13.20  1.78  2.14  11.2  100  2.65  2.76  0.26  1.28  4.38  1.05  3.40   \n",
              "2   1  13.16  2.36  2.67  18.6  101  2.80  3.24  0.30  2.81  5.68  1.03  3.17   \n",
              "3   1  14.37  1.95  2.50  16.8  113  3.85  3.49  0.24  2.18  7.80  0.86  3.45   \n",
              "4   1  13.24  2.59  2.87  21.0  118  2.80  2.69  0.39  1.82  4.32  1.04  2.93   \n",
              "\n",
              "     13  \n",
              "0  1065  \n",
              "1  1050  \n",
              "2  1185  \n",
              "3  1480  \n",
              "4   735  "
            ]
          },
          "execution_count": 3,
          "metadata": {},
          "output_type": "execute_result"
        }
      ],
      "source": [
        "data.head()"
      ]
    },
    {
      "cell_type": "code",
      "execution_count": 4,
      "metadata": {
        "id": "tR5UK4veRLt5"
      },
      "outputs": [],
      "source": [
        "X, y = data.iloc[:, 1:].values, data.iloc[:, 0].values"
      ]
    },
    {
      "cell_type": "code",
      "execution_count": 5,
      "metadata": {
        "colab": {
          "base_uri": "https://localhost:8080/"
        },
        "id": "L-dyh2S1RU5R",
        "outputId": "f9f4756a-b01b-4f0b-fdc6-8e806d0083d9"
      },
      "outputs": [
        {
          "name": "stdout",
          "output_type": "stream",
          "text": [
            "Num. samples:  178\n",
            "Num. features/variables:  13\n"
          ]
        }
      ],
      "source": [
        "N, d = X.shape\n",
        "print(\"Num. samples: \", N)\n",
        "print(\"Num. features/variables: \", d)"
      ]
    },
    {
      "cell_type": "code",
      "execution_count": 6,
      "metadata": {
        "id": "_8wWavZmRXMv"
      },
      "outputs": [],
      "source": [
        "# Hyper-parameters\n",
        "K_CLUSTERS = 3 # << N "
      ]
    },
    {
      "cell_type": "code",
      "execution_count": 7,
      "metadata": {
        "colab": {
          "base_uri": "https://localhost:8080/"
        },
        "id": "t_eBjzZCRl0_",
        "outputId": "f1cc9487-c44d-4276-c951-83837f03e3f2"
      },
      "outputs": [
        {
          "name": "stdout",
          "output_type": "stream",
          "text": [
            "(3, 13)\n",
            "[[1.247e+01 1.520e+00 2.200e+00 1.900e+01 1.620e+02 2.500e+00 2.270e+00\n",
            "  3.200e-01 3.280e+00 2.600e+00 1.160e+00 2.630e+00 9.370e+02]\n",
            " [1.288e+01 2.990e+00 2.400e+00 2.000e+01 1.040e+02 1.300e+00 1.220e+00\n",
            "  2.400e-01 8.300e-01 5.400e+00 7.400e-01 1.420e+00 5.300e+02]\n",
            " [1.187e+01 4.310e+00 2.390e+00 2.100e+01 8.200e+01 2.860e+00 3.030e+00\n",
            "  2.100e-01 2.910e+00 2.800e+00 7.500e-01 3.640e+00 3.800e+02]]\n"
          ]
        }
      ],
      "source": [
        "import random\n",
        "# random K-samples to be centroids\n",
        "k_indices = random.sample(range(0, N), K_CLUSTERS)\n",
        "centroids = X[k_indices]    # shape: (K, d)\n",
        "print(centroids.shape); print(centroids)"
      ]
    },
    {
      "cell_type": "code",
      "execution_count": 8,
      "metadata": {
        "colab": {
          "base_uri": "https://localhost:8080/"
        },
        "id": "JusDgjxQSVm4",
        "outputId": "63f7c7c3-6ef6-4b29-b813-f140c270c2c7"
      },
      "outputs": [],
      "source": [
        "# Remark\n",
        "from scipy.spatial import distance \n",
        "A = np.array([[1, 2],\n",
        "              [0, 3],\n",
        "              [1, 4]])\n",
        "\n",
        "B = np.array([[1, -1],\n",
        "              [2, -1]])\n",
        "\n",
        "C = distance.cdist(A, B) # euclidean distance, distance(x,y) = ||x-y||\n",
        "\n",
        "# C[0,0] = 3. = ||[1, 2] - [1, -1]||\n",
        "# C[0,1] = 3.1622 = ||[1, 2] - [2, -1]||\n",
        "# C[1,0] = 4.12 = ||[0, 3] - [1, -1]||\n",
        "# C[1,1] = ..."
      ]
    },
    {
      "cell_type": "code",
      "execution_count": 9,
      "metadata": {
        "colab": {
          "base_uri": "https://localhost:8080/"
        },
        "id": "F-2EBMxopoLl",
        "outputId": "dd136280-a335-4507-adcb-579d02bd5f84"
      },
      "outputs": [
        {
          "data": {
            "text/plain": [
              "array([1, 0], dtype=int64)"
            ]
          },
          "execution_count": 9,
          "metadata": {},
          "output_type": "execute_result"
        }
      ],
      "source": [
        "        #k=    0  1  2\n",
        "D = np.array([[1, 0, 3],   # x_1 y_1 = 1\n",
        "              [-1, 2, 1]]) # x_2 y_2 = 0\n",
        "\n",
        "np.argmin(D, axis=1)"
      ]
    },
    {
      "cell_type": "code",
      "execution_count": 10,
      "metadata": {
        "id": "upkzSIc3TqLt"
      },
      "outputs": [],
      "source": [
        "# helpers \n",
        "def assign_cluster(distances: np.ndarray) -> np.ndarray:\n",
        "    # distances: (N, K)\n",
        "    # \n",
        "    return np.argmin(distances, axis=1)\n",
        "\n",
        "def has_convert(pre_labels: np.ndarray, cur_labels: np.ndarray) -> bool:\n",
        "    return (pre_labels == cur_labels).all()\n",
        "\n",
        "def update_centroids(X, labels):\n",
        "    new_centroids = np.array([X[labels == k].mean(axis=0) for k in range(K_CLUSTERS)])\n",
        "    return new_centroids # (3, 13)\n",
        "\n",
        "def get_total_wcv(X, labels, centroids):\n",
        "    # Total within cluster variance\n",
        "    WCVs = [\n",
        "        np.sum(np.linalg.norm(X[labels == k] - centroids[k], axis=1) ** 2) \\\n",
        "        for k in range(K_CLUSTERS)\n",
        "    ]\n",
        "    return np.sum(WCVs)"
      ]
    },
    {
      "cell_type": "markdown",
      "metadata": {
        "id": "vouE1Q8DcxmE"
      },
      "source": [
        "# K-mean Algorithm"
      ]
    },
    {
      "cell_type": "code",
      "execution_count": 11,
      "metadata": {
        "colab": {
          "base_uri": "https://localhost:8080/"
        },
        "id": "HPdNq6xPSD5z",
        "outputId": "3f1028f3-813e-440b-8ff4-eb09704c0234"
      },
      "outputs": [
        {
          "name": "stdout",
          "output_type": "stream",
          "text": [
            ">> iters: 0 - wcv: 5946906.250507\n",
            ">> iters: 1 - wcv: 3560589.4004655518\n",
            ">> iters: 2 - wcv: 3041022.400916476\n",
            ">> iters: 3 - wcv: 2614186.6088793543\n",
            ">> iters: 4 - wcv: 2463787.220903917\n",
            ">> iters: 5 - wcv: 2381982.9894820517\n",
            ">> iters: 6 - wcv: 2371249.446583612\n"
          ]
        }
      ],
      "source": [
        "# initialize labels\n",
        "pre_labels = np.zeros((N, 1))\n",
        "\n",
        "# training\n",
        "it = 0\n",
        "while True:\n",
        "    # compute distances from X_i to\n",
        "    distances = distance.cdist(X, centroids) # shape: (N, K)\n",
        "    # assign new labels\n",
        "    labels = assign_cluster(distances) # [0, 0, 1, 0, ..., 2, 1, 0, 1]\n",
        "    # check convergence\n",
        "    if has_convert(pre_labels, labels):\n",
        "        break\n",
        "    # compute total within cluster variance\n",
        "    wcv = get_total_wcv(X, labels, centroids)\n",
        "    print(f\">> iters: {it} - wcv: {wcv}\")\n",
        "    # update centroids\n",
        "    centroids = update_centroids(X, labels) # 0->(x_i s.t y_i == 0).mean(), # 1->(x_i s.t y_i == 1).mean()\n",
        "    # update old labels\n",
        "    pre_labels = labels\n",
        "\n",
        "    it += 1"
      ]
    },
    {
      "cell_type": "code",
      "execution_count": 12,
      "metadata": {
        "id": "C0Irg_RKeYW6"
      },
      "outputs": [
        {
          "data": {
            "text/plain": [
              "2370689.686782968"
            ]
          },
          "execution_count": 12,
          "metadata": {},
          "output_type": "execute_result"
        }
      ],
      "source": [
        "# compute total within cluster variance\n",
        "wcv = get_total_wcv(X, labels, centroids)\n",
        "wcv"
      ]
    },
    {
      "cell_type": "code",
      "execution_count": 13,
      "metadata": {
        "colab": {
          "base_uri": "https://localhost:8080/"
        },
        "id": "tNoj02I6WahQ",
        "outputId": "4df91926-7a42-44c4-c72b-16e4c1eca48e"
      },
      "outputs": [
        {
          "data": {
            "text/plain": [
              "array([[1.38044681e+01, 1.88340426e+00, 2.42617021e+00, 1.70234043e+01,\n",
              "        1.05510638e+02, 2.86723404e+00, 3.01425532e+00, 2.85319149e-01,\n",
              "        1.91042553e+00, 5.70255319e+00, 1.07829787e+00, 3.11404255e+00,\n",
              "        1.19514894e+03],\n",
              "       [1.29298387e+01, 2.50403226e+00, 2.40806452e+00, 1.98903226e+01,\n",
              "        1.03596774e+02, 2.11112903e+00, 1.58403226e+00, 3.88387097e-01,\n",
              "        1.50338710e+00, 5.65032258e+00, 8.83967742e-01, 2.36548387e+00,\n",
              "        7.28338710e+02],\n",
              "       [1.25166667e+01, 2.49420290e+00, 2.28855072e+00, 2.08231884e+01,\n",
              "        9.23478261e+01, 2.07072464e+00, 1.75840580e+00, 3.90144928e-01,\n",
              "        1.45188406e+00, 4.08695651e+00, 9.41159420e-01, 2.49072464e+00,\n",
              "        4.58231884e+02]])"
            ]
          },
          "execution_count": 13,
          "metadata": {},
          "output_type": "execute_result"
        }
      ],
      "source": [
        "centroids"
      ]
    },
    {
      "cell_type": "code",
      "execution_count": 14,
      "metadata": {
        "id": "dH_gpuwkeEDO"
      },
      "outputs": [],
      "source": [
        "import numpy as np\n",
        "import pandas as pd\n",
        "import random\n",
        "import matplotlib.pyplot as plt\n",
        "from scipy.spatial import distance\n",
        "\n",
        "class KMeansClustering:\n",
        "    \"\"\"\n",
        "        An instance of K-Means Clustering algorithm\n",
        "    \"\"\"\n",
        "    def __init__(self, n_clusters=8):\n",
        "        \"\"\"\n",
        "            n_clusters: number of clusters\n",
        "            _centroids: center/ centroid of clusters\n",
        "            inertia_: sum of squared distances of samples to their closest cluster center\n",
        "            labels_: labels of input samples\n",
        "            X: input data\n",
        "        \"\"\"\n",
        "        self.n_clusters = n_clusters\n",
        "    \n",
        "    def fit(self, X: np.ndarray) -> None:\n",
        "        N, p = X.shape\n",
        "        self.X = X\n",
        "\n",
        "        # random K-samples to be centroids\n",
        "        k_indices = random.sample(range(0, N), self.n_clusters)\n",
        "        self._centroids = self.X[k_indices]\n",
        "\n",
        "        # initialize labels\n",
        "        pre_labels = np.zeros((N, 1))\n",
        "\n",
        "        # training\n",
        "        it = 0\n",
        "        while True:\n",
        "            # compute distances from X_i to\n",
        "            distances = self._calc_dists(self.X, self._centroids)\n",
        "            # assign new labels\n",
        "            self.labels_ = self._assign_cluster(distances)  # assign new labels\n",
        "            # check convergence\n",
        "            if self._has_convert(pre_labels, self.labels_):\n",
        "                break\n",
        "            # update centroids\n",
        "            self._update_centroids(self.X, self.labels_)\n",
        "            pre_labels = self.labels_\n",
        "            it += 1\n",
        "\n",
        "        # compute total Within Cluster Variance (WCV)\n",
        "        self.inertia_ = self._calc_total_WCV(self.X, self.labels_, self._centroids)\n",
        "\n",
        "    def _calc_dists(self, X, centroids):\n",
        "        return distance.cdist(X, centroids, \"euclidean\")\n",
        "\n",
        "    def _assign_cluster(self, distances):\n",
        "        return np.argmin(distances, axis=1)\n",
        "\n",
        "    def _update_centroids(self, X, labels):\n",
        "        self._centroids = np.array(\n",
        "            [X[labels == k].mean(axis=0) for k in range(self.n_clusters)]\n",
        "        )\n",
        "\n",
        "    def _calc_total_WCV(self, X, labels, centroids):\n",
        "        WCVs = [\n",
        "            np.sum(np.linalg.norm(X[labels == k] - centroids[k], axis=1) ** 2)\n",
        "            for k in range(self.n_clusters)\n",
        "        ]\n",
        "        return np.sum(WCVs)\n",
        "\n",
        "    def _has_convert(self, pre_labels, cur_labels):\n",
        "        return (pre_labels == cur_labels).all()\n",
        "\n",
        "    def _predict(self, X_test):\n",
        "        dist_test = self._calc_dists(X_test, self._centroids)\n",
        "        test_labels = self._assign_cluster(dist_test)\n",
        "        return test_labels\n",
        "\n",
        "    def predict(self, X_test):\n",
        "        return self._predict(X_test)"
      ]
    },
    {
      "cell_type": "code",
      "execution_count": 15,
      "metadata": {
        "id": "usBxzp6Wd0xd"
      },
      "outputs": [],
      "source": [
        "def elbow_method(X, k_clusters=[1, 3, 5, 7, 9]):\n",
        "    total_wcss = []\n",
        "    for k in k_clusters:\n",
        "        kmeans_model = KMeansClustering(n_clusters=k)\n",
        "        kmeans_model.fit(X)\n",
        "        total_wcss.append(kmeans_model.inertia_)\n",
        "\n",
        "    plt.figure()\n",
        "    plt.plot(k_clusters, total_wcss, marker='o', color='r')\n",
        "    plt.ylabel('Total WSS')\n",
        "    plt.xlabel('Number of cluster')\n",
        "    plt.show()"
      ]
    },
    {
      "cell_type": "code",
      "execution_count": 16,
      "metadata": {
        "colab": {
          "base_uri": "https://localhost:8080/",
          "height": 465
        },
        "id": "4c_x1PGce9GM",
        "outputId": "10975065-7f5f-4bfa-f729-8242e4f7adb0"
      },
      "outputs": [
        {
          "data": {
            "image/png": "[encoded data removed]",
            "text/plain": [
              "<Figure size 640x480 with 1 Axes>"
            ]
          },
          "metadata": {},
          "output_type": "display_data"
        }
      ],
      "source": [
        "elbow_method(X)"
      ]
    },
    {
      "cell_type": "code",
      "execution_count": 17,
      "metadata": {
        "colab": {
          "base_uri": "https://localhost:8080/"
        },
        "id": "4zWkl1llXFnO",
        "outputId": "824d4855-4706-4525-b133-1b7b68ef0220"
      },
      "outputs": [
        {
          "name": "stdout",
          "output_type": "stream",
          "text": [
            "Explained variance ratio of the chosen components:\n",
            " [0.99809123 0.99982715 0.99992211]\n"
          ]
        }
      ],
      "source": [
        "# Perform PCA for dimension reduction in order to visualize outcome.\n",
        "from sklearn.decomposition import PCA\n",
        "pca = PCA(n_components=3)\n",
        "X_pca = pca.fit_transform(X)\n",
        "\n",
        "print('Explained variance ratio of the chosen components:\\n', np.cumsum(pca.explained_variance_ratio_))"
      ]
    },
    {
      "cell_type": "code",
      "execution_count": 18,
      "metadata": {
        "colab": {
          "base_uri": "https://localhost:8080/",
          "height": 430
        },
        "id": "6ZtABG2jXx6H",
        "outputId": "38a671cc-fe16-4143-810c-6932964ac45a"
      },
      "outputs": [
        {
          "data": {
            "image/png": "[encoded data removed]",
            "text/plain": [
              "<Figure size 640x480 with 1 Axes>"
            ]
          },
          "metadata": {},
          "output_type": "display_data"
        }
      ],
      "source": [
        "# 2D visualization\n",
        "for k in range(K_CLUSTERS):\n",
        "    plt.scatter(X_pca[labels == k, :][:, 0], X_pca[labels == k, :][:, 1])\n",
        "plt.show()"
      ]
    },
    {
      "cell_type": "code",
      "execution_count": 19,
      "metadata": {
        "colab": {
          "base_uri": "https://localhost:8080/",
          "height": 417
        },
        "id": "4JQhbj7iXIFM",
        "outputId": "337755b7-0b23-44ad-c4af-c300200a0d6b"
      },
      "outputs": [
        {
          "data": {
            "application/vnd.plotly.v1+json": {
              "config": {
                "plotlyServerURL": "https://plot.ly"
              },
              "data": [
                {
                  "hovertemplate": "x=%{x}<br>y=%{y}<br>z=%{z}<br>color=%{marker.color}<extra></extra>",
                  "legendgroup": "",
                  "marker": {
                    "color": [
                      0,
                      0,
                      0,
                      0,
                      1,
                      0,
                      0,
                      0,
                      0,
                      0,
                      0,
                      0,
                      0,
                      0,
                      0,
                      0,
                      0,
                      0,
                      0,
                      1,
                      1,
                      1,
                      0,
                      0,
                      1,
                      1,
                      0,
                      0,
                      1,
                      0,
                      0,
                      0,
                      0,
                      0,
                      0,
                      1,
                      1,
                      0,
                      0,
                      1,
                      1,
                      0,
                      0,
                      1,
                      1,
                      0,
                      0,
                      0,
                      0,
                      0,
                      0,
                      0,
                      0,
                      0,
                      0,
                      0,
                      0,
                      0,
                      0,
                      2,
                      1,
                      2,
                      1,
                      2,
                      2,
                      1,
                      2,
                      2,
                      1,
                      1,
                      1,
                      2,
                      2,
                      0,
                      1,
                      2,
                      2,
                      2,
                      1,
                      2,
                      2,
                      1,
                      1,
                      2,
                      2,
                      2,
                      2,
                      2,
                      1,
                      1,
                      2,
                      2,
                      2,
                      2,
                      2,
                      1,
                      1,
                      2,
                      1,
                      2,
                      1,
                      2,
                      2,
                      2,
                      1,
                      2,
                      2,
                      2,
                      2,
                      1,
                      2,
                      2,
                      1,
                      2,
                      2,
                      2,
                      2,
                      2,
                      2,
                      2,
                      1,
                      2,
                      2,
                      2,
                      2,
                      2,
                      2,
                      2,
                      2,
                      2,
                      1,
                      2,
                      2,
                      1,
                      1,
                      1,
                      1,
                      2,
                      2,
                      2,
                      1,
                      1,
                      2,
                      2,
                      1,
                      1,
                      2,
                      1,
                      1,
                      2,
                      2,
                      2,
                      2,
                      1,
                      1,
                      1,
                      2,
                      1,
                      1,
                      1,
                      2,
                      1,
                      2,
                      1,
                      1,
                      2,
                      1,
                      1,
                      1,
                      1,
                      2,
                      2,
                      1,
                      1,
                      1,
                      1,
                      1,
                      2
                    ],
                    "coloraxis": "coloraxis",
                    "symbol": "circle"
                  },
                  "mode": "markers",
                  "name": "",
                  "scene": "scene",
                  "showlegend": false,
                  "type": "scatter3d",
                  "x": [
                    318.56297928793623,
                    303.0974196593866,
                    438.0611329172367,
                    733.240139350811,
                    -11.57142849590584,
                    703.2311917377222,
                    542.971580866593,
                    548.4018598404369,
                    298.0368628006117,
                    298.0495531354684,
                    763.0797119412471,
                    532.9432277319979,
                    572.8344103911645,
                    402.92535828609675,
                    800.0533938569716,
                    563.2455779988176,
                    533.3796506359125,
                    383.31759107727527,
                    933.1183874996059,
                    98.40317747596015,
                    33.593594001853695,
                    23.14643754027108,
                    288.0930302174046,
                    267.9815125349915,
                    98.01988577277827,
                    83.49874396134199,
                    447.92559622234273,
                    537.9191650213774,
                    168.2104676046497,
                    288.0082470812645,
                    538.0264521021907,
                    768.0929388553868,
                    243.15075090189168,
                    488.6012800452357,
                    348.23100699681964,
                    173.07995742609643,
                    133.2864235465915,
                    358.01855917526655,
                    273.04443152140374,
                    13.643002113365252,
                    48.429642249929884,
                    287.88409216899083,
                    348.0953481804468,
                    -66.8146553861028,
                    138.22700988344212,
                    333.2548058291664,
                    318.1118484666385,
                    238.1114850787225,
                    313.11991538783974,
                    513.1877480212281,
                    402.9390171589735,
                    517.9289632654717,
                    443.266411294933,
                    628.2860709851127,
                    313.3976126756322,
                    373.33329122238,
                    223.41710635795042,
                    523.0728513966161,
                    538.1820973229434,
                    -227.03269045249684,
                    -66.85012199724903,
                    -296.8244368914156,
                    -116.97047258185805,
                    -327.0591255951514,
                    -391.75248643605016,
                    -68.90576044269481,
                    -245.21252397707903,
                    -237.24141029251683,
                    3.296155990979969,
                    -27.966120730539387,
                    123.13013830856292,
                    -337.1041224880133,
                    -275.0960258796877,
                    238.7167565488612,
                    139.09405663995798,
                    -318.8763289023296,
                    -355.0602525141372,
                    -246.6335974519159,
                    3.7716896555327346,
                    -283.8422476447664,
                    -469.05935030926656,
                    -33.1313392461562,
                    -117.2903920098069,
                    -232.1329883841232,
                    -226.95329942011838,
                    -296.8521517343857,
                    -252.04639192844039,
                    -185.10885737349255,
                    -67.18075184447471,
                    -122.43132640120463,
                    -267.18533320304374,
                    -297.10441467528625,
                    -252.21388507177033,
                    -457.0222149421968,
                    -401.8512740899959,
                    191.18339677250668,
                    -121.27917775374152,
                    -319.0882728046859,
                    -87.08029256129826,
                    -341.04090016734904,
                    -36.931614550998155,
                    -185.07371349407924,
                    -308.88238661249596,
                    -332.0892963829007,
                    -75.15313775202642,
                    -432.00974192285366,
                    -237.20669708725706,
                    -259.14836773379625,
                    -434.95778011238116,
                    -66.99069577012949,
                    -184.73643852532717,
                    -422.04287362487923,
                    -139.81866316131357,
                    -313.060948162897,
                    -362.1296331136064,
                    -340.1150062142455,
                    -252.10947206109924,
                    -401.6959734817672,
                    -375.17109236646655,
                    -183.09792918191033,
                    -121.94524134844424,
                    -281.53456911973217,
                    -381.82677823426377,
                    -367.0893800459944,
                    -367.1571746966124,
                    -369.1036009666213,
                    -395.07883645694085,
                    -281.03036870910097,
                    -405.0612878028856,
                    -167.23764181767604,
                    -116.47300035905562,
                    -216.78453997810766,
                    -186.9151119656018,
                    -146.76952962486232,
                    -97.13297359792638,
                    -51.982046867183534,
                    -27.097930749853607,
                    -231.95153407062102,
                    -167.07624576452423,
                    -156.86804454285766,
                    -146.94648958055132,
                    32.90429274889574,
                    -226.92620968566476,
                    -197.00434749402004,
                    108.31267730325975,
                    83.11826261248193,
                    -332.19583999008915,
                    -122.12609208783448,
                    -97.01938926807357,
                    -196.6248066040509,
                    -246.44919923184148,
                    -266.6287880497012,
                    -321.57074093518065,
                    -71.89765870622597,
                    -106.8166178012724,
                    -22.020256798529097,
                    -267.03173230557627,
                    132.9998412521894,
                    -86.91399859078044,
                    -127.06128965116437,
                    -227.06883575173472,
                    -66.75543117637756,
                    -176.76509842511712,
                    -71.76839793240192,
                    -132.04824836043477,
                    -227.0778445532605,
                    -51.68950645984462,
                    -62.085011124303946,
                    3.182764653492951,
                    -116.67481804945271,
                    -236.92120794183785,
                    -277.08357825603935,
                    -87.02740263137342,
                    -6.980210958028769,
                    3.1316046787552256,
                    88.45807368612937,
                    93.45624185410911,
                    -186.94319027310948
                  ],
                  "y": [
                    21.492130734539977,
                    -5.364717683064039,
                    -6.537309449440039,
                    0.19272903207214176,
                    18.48999460836035,
                    -0.3321586742532807,
                    -13.518966641596887,
                    11.449432383558477,
                    -8.18015783540834,
                    -7.1015429375617325,
                    -8.33431722629875,
                    -14.2876337704714,
                    -21.005014330071106,
                    -16.102635218597197,
                    -12.118447191589327,
                    2.2148286640862755,
                    10.8048022336625,
                    8.477419817562929,
                    -8.354478439743346,
                    14.392659413302264,
                    25.56795649775252,
                    1.8174730862651145,
                    -3.9630417496650305,
                    -9.570704013405837,
                    -5.4958460621884155,
                    22.891621549959417,
                    -14.7973312507593,
                    -15.388346065023546,
                    4.255310963149655,
                    -8.959731549015748,
                    -8.212738820938164,
                    -7.379897374639945,
                    -0.14391492761481345,
                    23.565325043240637,
                    4.03808014899822,
                    -2.792921649776866,
                    7.772729575349447,
                    -8.157984118124046,
                    -6.725074307758918,
                    27.846832147749073,
                    16.321949760522184,
                    -14.885118535217176,
                    -5.043426088455584,
                    4.384829918309571,
                    4.730688359804035,
                    5.319331158248501,
                    -3.48694493911694,
                    -3.0515210012939513,
                    -2.305363163587634,
                    -0.8637592352155227,
                    -15.053302848806693,
                    -14.997554888546452,
                    3.2605020440732746,
                    4.041145380795897,
                    12.608913514882223,
                    9.664198626315423,
                    14.216892411736989,
                    -7.0966252559129055,
                    -1.3567801281016305,
                    -7.994967969134492,
                    2.3198665362225666,
                    5.468475698009883,
                    -3.726383423155163,
                    -6.9481308081421815,
                    11.171678256222842,
                    -0.558620537124198,
                    -17.49363929942056,
                    -17.531025550918,
                    10.095811600653018,
                    51.63012518592637,
                    1.0598345145506813,
                    -7.623855122175803,
                    -7.753152131800834,
                    35.251827368233656,
                    -1.2074761987359968,
                    2.8107711323253133,
                    -7.530701831829734,
                    16.558436650558395,
                    36.03109236303351,
                    6.361860804858207,
                    -5.458923979087495,
                    -13.187104957216397,
                    -19.578612467991928,
                    -10.530103259648028,
                    -1.7760587915564796,
                    4.452803088679305,
                    -5.212617588104981,
                    -8.318582024009315,
                    -14.524690218444059,
                    -27.504038698491335,
                    -14.053890086022564,
                    -8.415031614551138,
                    -15.251570245283128,
                    -3.697337926777126,
                    5.331400215799385,
                    58.79376237956182,
                    36.4175148893171,
                    -9.193078195295874,
                    -10.226572689125993,
                    -5.750565586578919,
                    -2.1704159280460553,
                    -8.520519018587827,
                    3.7516565521730803,
                    -7.88372875343961,
                    -13.41382794481086,
                    -2.03294673374954,
                    -15.561967932903482,
                    -11.07881634772337,
                    -0.05952602952400194,
                    -4.571457640410518,
                    10.516463160565275,
                    -4.2449219417624935,
                    5.735552074296899,
                    -6.167094011040837,
                    -9.259295397921365,
                    -8.689734429642705,
                    -9.275870146862673,
                    15.425890267706611,
                    -13.185050253814753,
                    -9.55354431954878,
                    -1.5888942780782387,
                    24.50826118654669,
                    9.189109755405713,
                    -7.188215890256362,
                    -11.196320221661292,
                    -8.175804911790458,
                    -6.679831873374487,
                    -2.5358600677176875,
                    -4.451073669629209,
                    -16.731185725058754,
                    24.2660200597975,
                    8.130449556224942,
                    1.7100573556775933,
                    8.920334113562175,
                    -13.058283826880889,
                    -4.812293096844395,
                    -10.229996223962052,
                    0.5349074098240302,
                    -8.756723111031368,
                    4.163162488055398,
                    -1.0967289642032607,
                    -11.305365635407663,
                    1.3882783668810998,
                    -4.228428695529228,
                    10.351330443795757,
                    0.8068696950290741,
                    -13.813298892465182,
                    -11.46992585963706,
                    -5.906442575323515,
                    16.873113924850287,
                    27.810095379533575,
                    17.15023199752926,
                    22.164340097201013,
                    -0.39965639971936273,
                    5.2061230650887245,
                    -6.229439254840834,
                    -5.923089144009848,
                    -4.867705439544265,
                    0.07963577715359359,
                    -8.291416841194465,
                    -7.618630299434804,
                    8.470289897435142,
                    9.473190002016782,
                    7.510637841257724,
                    -7.255030312061555,
                    -7.593379303886887,
                    12.358084974597835,
                    -10.554015295801587,
                    5.391361501575993,
                    14.533370347154204,
                    0.4630369975531708,
                    -8.740331907970246,
                    -7.10459574858173,
                    -4.5411365691586845,
                    2.335190511328365,
                    18.776284558356142,
                    18.670819123425396,
                    -0.21333080312166197
                  ],
                  "z": [
                    3.130734704812438,
                    6.822835495267987,
                    -1.1132229813677754,
                    -0.9172570156159472,
                    -0.5544220764538625,
                    0.94937533431354,
                    2.1269428292907575,
                    0.04049242022917695,
                    3.8809751711362077,
                    1.558455326905508,
                    -1.8862903746692838,
                    0.13033523958243898,
                    0.37261485893017365,
                    5.675139863234848,
                    3.046529907044471,
                    -0.5255109845710353,
                    -2.4765273440130224,
                    -1.9897450127087428,
                    -1.932912759319103,
                    4.103746161566876,
                    4.033586149690677,
                    0.8871608409161891,
                    2.0537138085203086,
                    0.7584118315838337,
                    -0.3872976607905888,
                    -4.2788365265849215,
                    1.2198344514939627,
                    0.1646923293421428,
                    -0.10338440781076456,
                    2.1614982056626943,
                    -5.1683962792082765,
                    -3.2299624131290443,
                    1.6808027280199185,
                    -1.1716264175970024,
                    -0.44767499520542203,
                    -1.509791984186951,
                    3.719266075471159,
                    0.07320060546610126,
                    3.0347923708207696,
                    6.640550726108928,
                    3.3612101270787185,
                    -0.8069365283241554,
                    2.838968369028406,
                    2.366542980065735,
                    2.1931658420629114,
                    -0.7837581291545951,
                    1.993857380004563,
                    2.2273271441802875,
                    -0.8559035268130556,
                    -0.9638927665023305,
                    4.2526805423964795,
                    -0.2954334771832594,
                    3.2253348673124935,
                    -0.3579315275320795,
                    2.00469936416221,
                    -2.2920457516604,
                    2.3878650381890734,
                    0.12928836917024467,
                    0.23097851091683436,
                    9.947131337767145,
                    4.126899332646672,
                    3.6617552215439084,
                    2.2199988414999003,
                    2.0857080285211946,
                    3.0247446387234374,
                    1.8950692219499403,
                    4.993235932280128,
                    0.6560142273250237,
                    3.2177922543832698,
                    4.999461281198764,
                    -0.8110228828001358,
                    -3.3355762596312974,
                    -2.931177237618913,
                    -9.005075737158652,
                    -1.1982546783342514,
                    5.00732155064414,
                    4.801951375096376,
                    3.4401594036205836,
                    6.13187473458248,
                    -1.3088627653246065,
                    3.2013148618203147,
                    0.8942199036692876,
                    -3.3971966275038423,
                    -2.430109110116481,
                    3.0905958793243093,
                    3.645455008096165,
                    -1.4523108311782569,
                    -4.815931293586881,
                    -1.4714870295045797,
                    -3.0803859615490707,
                    2.3435504155541644,
                    -0.9727154519195795,
                    -0.010559973631036225,
                    4.019284914658159,
                    3.8437198057476354,
                    2.3688115437712005,
                    0.32317103295922495,
                    5.13148563454078,
                    1.5397074203801728,
                    3.480188977223777,
                    2.5903095818237687,
                    2.250976706118104,
                    0.6457357499334188,
                    2.0412984683883963,
                    -0.26944060999436176,
                    -0.01297855204681893,
                    1.5472466138607284,
                    -1.599972845736466,
                    3.095052479157564,
                    0.649008691874265,
                    1.7028908621079863,
                    1.0798031835078405,
                    0.534029189129722,
                    0.4295837386826362,
                    -0.8390443466871144,
                    0.3459305702058382,
                    0.557705741865201,
                    0.24785618801488973,
                    4.609454691510677,
                    1.9084831633534745,
                    0.6556354295327255,
                    -6.485045869937739,
                    -4.133342046481054,
                    -0.21865502663881567,
                    0.3655088712389299,
                    0.6398487191912623,
                    0.061894557072457605,
                    -6.785925299912569,
                    -2.2072153631847646,
                    -1.7368791369547845,
                    2.7892495021738477,
                    0.239926810205413,
                    -3.8561465240976562,
                    -1.364481299264532,
                    1.6758577178581118,
                    0.16073012239293372,
                    -1.8376558359591886,
                    -4.831493112675974,
                    -0.17737762526839465,
                    -3.7030765864158823,
                    -1.0096025360789154,
                    -1.341376975185022,
                    -2.9629536749922547,
                    -0.12287404169145405,
                    -0.48108542975832075,
                    -1.796842969343548,
                    -0.1709358370029457,
                    -3.0006437106280064,
                    -2.9828262935565526,
                    -2.2538996313115724,
                    -3.750749290530451,
                    -2.6831192631387646,
                    -4.424342787525046,
                    -0.7077531625492921,
                    -0.7332940172726453,
                    -3.864832823275905,
                    -0.7032844576439856,
                    -8.753798412442482,
                    -7.171313675163056,
                    -4.577280887569146,
                    -1.8550854337306035,
                    -0.5491365352489249,
                    -1.8428729242424589,
                    1.0122258512645994,
                    -3.66332809946338,
                    -3.104006297213625,
                    -4.743612647165983,
                    -1.9421360432113661,
                    -5.857239690699432,
                    -5.754956502189539,
                    0.9701937431228106,
                    -0.8396936183760214,
                    -1.9605158219045267,
                    -2.4747068615945786,
                    -4.3099306096963215,
                    -2.237576509448454,
                    -1.788391521957733,
                    -5.630509838777132
                  ]
                }
              ],
              "layout": {
                "coloraxis": {
                  "colorbar": {
                    "title": {
                      "text": "color"
                    }
                  },
                  "colorscale": [
                    [
                      0,
                      "#0d0887"
                    ],
                    [
                      0.1111111111111111,
                      "#46039f"
                    ],
                    [
                      0.2222222222222222,
                      "#7201a8"
                    ],
                    [
                      0.3333333333333333,
                      "#9c179e"
                    ],
                    [
                      0.4444444444444444,
                      "#bd3786"
                    ],
                    [
                      0.5555555555555556,
                      "#d8576b"
                    ],
                    [
                      0.6666666666666666,
                      "#ed7953"
                    ],
                    [
                      0.7777777777777778,
                      "#fb9f3a"
                    ],
                    [
                      0.8888888888888888,
                      "#fdca26"
                    ],
                    [
                      1,
                      "#f0f921"
                    ]
                  ]
                },
                "height": 400,
                "legend": {
                  "tracegroupgap": 0
                },
                "margin": {
                  "b": 0,
                  "l": 0,
                  "r": 0,
                  "t": 0
                },
                "scene": {
                  "domain": {
                    "x": [
                      0,
                      1
                    ],
                    "y": [
                      0,
                      1
                    ]
                  },
                  "xaxis": {
                    "title": {
                      "text": "x"
                    }
                  },
                  "yaxis": {
                    "title": {
                      "text": "y"
                    }
                  },
                  "zaxis": {
                    "title": {
                      "text": "z"
                    }
                  }
                },
                "template": {
                  "data": {
                    "bar": [
                      {
                        "error_x": {
                          "color": "#2a3f5f"
                        },
                        "error_y": {
                          "color": "#2a3f5f"
                        },
                        "marker": {
                          "line": {
                            "color": "#E5ECF6",
                            "width": 0.5
                          },
                          "pattern": {
                            "fillmode": "overlay",
                            "size": 10,
                            "solidity": 0.2
                          }
                        },
                        "type": "bar"
                      }
                    ],
                    "barpolar": [
                      {
                        "marker": {
                          "line": {
                            "color": "#E5ECF6",
                            "width": 0.5
                          },
                          "pattern": {
                            "fillmode": "overlay",
                            "size": 10,
                            "solidity": 0.2
                          }
                        },
                        "type": "barpolar"
                      }
                    ],
                    "carpet": [
                      {
                        "aaxis": {
                          "endlinecolor": "#2a3f5f",
                          "gridcolor": "white",
                          "linecolor": "white",
                          "minorgridcolor": "white",
                          "startlinecolor": "#2a3f5f"
                        },
                        "baxis": {
                          "endlinecolor": "#2a3f5f",
                          "gridcolor": "white",
                          "linecolor": "white",
                          "minorgridcolor": "white",
                          "startlinecolor": "#2a3f5f"
                        },
                        "type": "carpet"
                      }
                    ],
                    "choropleth": [
                      {
                        "colorbar": {
                          "outlinewidth": 0,
                          "ticks": ""
                        },
                        "type": "choropleth"
                      }
                    ],
                    "contour": [
                      {
                        "colorbar": {
                          "outlinewidth": 0,
                          "ticks": ""
                        },
                        "colorscale": [
                          [
                            0,
                            "#0d0887"
                          ],
                          [
                            0.1111111111111111,
                            "#46039f"
                          ],
                          [
                            0.2222222222222222,
                            "#7201a8"
                          ],
                          [
                            0.3333333333333333,
                            "#9c179e"
                          ],
                          [
                            0.4444444444444444,
                            "#bd3786"
                          ],
                          [
                            0.5555555555555556,
                            "#d8576b"
                          ],
                          [
                            0.6666666666666666,
                            "#ed7953"
                          ],
                          [
                            0.7777777777777778,
                            "#fb9f3a"
                          ],
                          [
                            0.8888888888888888,
                            "#fdca26"
                          ],
                          [
                            1,
                            "#f0f921"
                          ]
                        ],
                        "type": "contour"
                      }
                    ],
                    "contourcarpet": [
                      {
                        "colorbar": {
                          "outlinewidth": 0,
                          "ticks": ""
                        },
                        "type": "contourcarpet"
                      }
                    ],
                    "heatmap": [
                      {
                        "colorbar": {
                          "outlinewidth": 0,
                          "ticks": ""
                        },
                        "colorscale": [
                          [
                            0,
                            "#0d0887"
                          ],
                          [
                            0.1111111111111111,
                            "#46039f"
                          ],
                          [
                            0.2222222222222222,
                            "#7201a8"
                          ],
                          [
                            0.3333333333333333,
                            "#9c179e"
                          ],
                          [
                            0.4444444444444444,
                            "#bd3786"
                          ],
                          [
                            0.5555555555555556,
                            "#d8576b"
                          ],
                          [
                            0.6666666666666666,
                            "#ed7953"
                          ],
                          [
                            0.7777777777777778,
                            "#fb9f3a"
                          ],
                          [
                            0.8888888888888888,
                            "#fdca26"
                          ],
                          [
                            1,
                            "#f0f921"
                          ]
                        ],
                        "type": "heatmap"
                      }
                    ],
                    "heatmapgl": [
                      {
                        "colorbar": {
                          "outlinewidth": 0,
                          "ticks": ""
                        },
                        "colorscale": [
                          [
                            0,
                            "#0d0887"
                          ],
                          [
                            0.1111111111111111,
                            "#46039f"
                          ],
                          [
                            0.2222222222222222,
                            "#7201a8"
                          ],
                          [
                            0.3333333333333333,
                            "#9c179e"
                          ],
                          [
                            0.4444444444444444,
                            "#bd3786"
                          ],
                          [
                            0.5555555555555556,
                            "#d8576b"
                          ],
                          [
                            0.6666666666666666,
                            "#ed7953"
                          ],
                          [
                            0.7777777777777778,
                            "#fb9f3a"
                          ],
                          [
                            0.8888888888888888,
                            "#fdca26"
                          ],
                          [
                            1,
                            "#f0f921"
                          ]
                        ],
                        "type": "heatmapgl"
                      }
                    ],
                    "histogram": [
                      {
                        "marker": {
                          "pattern": {
                            "fillmode": "overlay",
                            "size": 10,
                            "solidity": 0.2
                          }
                        },
                        "type": "histogram"
                      }
                    ],
                    "histogram2d": [
                      {
                        "colorbar": {
                          "outlinewidth": 0,
                          "ticks": ""
                        },
                        "colorscale": [
                          [
                            0,
                            "#0d0887"
                          ],
                          [
                            0.1111111111111111,
                            "#46039f"
                          ],
                          [
                            0.2222222222222222,
                            "#7201a8"
                          ],
                          [
                            0.3333333333333333,
                            "#9c179e"
                          ],
                          [
                            0.4444444444444444,
                            "#bd3786"
                          ],
                          [
                            0.5555555555555556,
                            "#d8576b"
                          ],
                          [
                            0.6666666666666666,
                            "#ed7953"
                          ],
                          [
                            0.7777777777777778,
                            "#fb9f3a"
                          ],
                          [
                            0.8888888888888888,
                            "#fdca26"
                          ],
                          [
                            1,
                            "#f0f921"
                          ]
                        ],
                        "type": "histogram2d"
                      }
                    ],
                    "histogram2dcontour": [
                      {
                        "colorbar": {
                          "outlinewidth": 0,
                          "ticks": ""
                        },
                        "colorscale": [
                          [
                            0,
                            "#0d0887"
                          ],
                          [
                            0.1111111111111111,
                            "#46039f"
                          ],
                          [
                            0.2222222222222222,
                            "#7201a8"
                          ],
                          [
                            0.3333333333333333,
                            "#9c179e"
                          ],
                          [
                            0.4444444444444444,
                            "#bd3786"
                          ],
                          [
                            0.5555555555555556,
                            "#d8576b"
                          ],
                          [
                            0.6666666666666666,
                            "#ed7953"
                          ],
                          [
                            0.7777777777777778,
                            "#fb9f3a"
                          ],
                          [
                            0.8888888888888888,
                            "#fdca26"
                          ],
                          [
                            1,
                            "#f0f921"
                          ]
                        ],
                        "type": "histogram2dcontour"
                      }
                    ],
                    "mesh3d": [
                      {
                        "colorbar": {
                          "outlinewidth": 0,
                          "ticks": ""
                        },
                        "type": "mesh3d"
                      }
                    ],
                    "parcoords": [
                      {
                        "line": {
                          "colorbar": {
                            "outlinewidth": 0,
                            "ticks": ""
                          }
                        },
                        "type": "parcoords"
                      }
                    ],
                    "pie": [
                      {
                        "automargin": true,
                        "type": "pie"
                      }
                    ],
                    "scatter": [
                      {
                        "fillpattern": {
                          "fillmode": "overlay",
                          "size": 10,
                          "solidity": 0.2
                        },
                        "type": "scatter"
                      }
                    ],
                    "scatter3d": [
                      {
                        "line": {
                          "colorbar": {
                            "outlinewidth": 0,
                            "ticks": ""
                          }
                        },
                        "marker": {
                          "colorbar": {
                            "outlinewidth": 0,
                            "ticks": ""
                          }
                        },
                        "type": "scatter3d"
                      }
                    ],
                    "scattercarpet": [
                      {
                        "marker": {
                          "colorbar": {
                            "outlinewidth": 0,
                            "ticks": ""
                          }
                        },
                        "type": "scattercarpet"
                      }
                    ],
                    "scattergeo": [
                      {
                        "marker": {
                          "colorbar": {
                            "outlinewidth": 0,
                            "ticks": ""
                          }
                        },
                        "type": "scattergeo"
                      }
                    ],
                    "scattergl": [
                      {
                        "marker": {
                          "colorbar": {
                            "outlinewidth": 0,
                            "ticks": ""
                          }
                        },
                        "type": "scattergl"
                      }
                    ],
                    "scattermapbox": [
                      {
                        "marker": {
                          "colorbar": {
                            "outlinewidth": 0,
                            "ticks": ""
                          }
                        },
                        "type": "scattermapbox"
                      }
                    ],
                    "scatterpolar": [
                      {
                        "marker": {
                          "colorbar": {
                            "outlinewidth": 0,
                            "ticks": ""
                          }
                        },
                        "type": "scatterpolar"
                      }
                    ],
                    "scatterpolargl": [
                      {
                        "marker": {
                          "colorbar": {
                            "outlinewidth": 0,
                            "ticks": ""
                          }
                        },
                        "type": "scatterpolargl"
                      }
                    ],
                    "scatterternary": [
                      {
                        "marker": {
                          "colorbar": {
                            "outlinewidth": 0,
                            "ticks": ""
                          }
                        },
                        "type": "scatterternary"
                      }
                    ],
                    "surface": [
                      {
                        "colorbar": {
                          "outlinewidth": 0,
                          "ticks": ""
                        },
                        "colorscale": [
                          [
                            0,
                            "#0d0887"
                          ],
                          [
                            0.1111111111111111,
                            "#46039f"
                          ],
                          [
                            0.2222222222222222,
                            "#7201a8"
                          ],
                          [
                            0.3333333333333333,
                            "#9c179e"
                          ],
                          [
                            0.4444444444444444,
                            "#bd3786"
                          ],
                          [
                            0.5555555555555556,
                            "#d8576b"
                          ],
                          [
                            0.6666666666666666,
                            "#ed7953"
                          ],
                          [
                            0.7777777777777778,
                            "#fb9f3a"
                          ],
                          [
                            0.8888888888888888,
                            "#fdca26"
                          ],
                          [
                            1,
                            "#f0f921"
                          ]
                        ],
                        "type": "surface"
                      }
                    ],
                    "table": [
                      {
                        "cells": {
                          "fill": {
                            "color": "#EBF0F8"
                          },
                          "line": {
                            "color": "white"
                          }
                        },
                        "header": {
                          "fill": {
                            "color": "#C8D4E3"
                          },
                          "line": {
                            "color": "white"
                          }
                        },
                        "type": "table"
                      }
                    ]
                  },
                  "layout": {
                    "annotationdefaults": {
                      "arrowcolor": "#2a3f5f",
                      "arrowhead": 0,
                      "arrowwidth": 1
                    },
                    "autotypenumbers": "strict",
                    "coloraxis": {
                      "colorbar": {
                        "outlinewidth": 0,
                        "ticks": ""
                      }
                    },
                    "colorscale": {
                      "diverging": [
                        [
                          0,
                          "#8e0152"
                        ],
                        [
                          0.1,
                          "#c51b7d"
                        ],
                        [
                          0.2,
                          "#de77ae"
                        ],
                        [
                          0.3,
                          "#f1b6da"
                        ],
                        [
                          0.4,
                          "#fde0ef"
                        ],
                        [
                          0.5,
                          "#f7f7f7"
                        ],
                        [
                          0.6,
                          "#e6f5d0"
                        ],
                        [
                          0.7,
                          "#b8e186"
                        ],
                        [
                          0.8,
                          "#7fbc41"
                        ],
                        [
                          0.9,
                          "#4d9221"
                        ],
                        [
                          1,
                          "#276419"
                        ]
                      ],
                      "sequential": [
                        [
                          0,
                          "#0d0887"
                        ],
                        [
                          0.1111111111111111,
                          "#46039f"
                        ],
                        [
                          0.2222222222222222,
                          "#7201a8"
                        ],
                        [
                          0.3333333333333333,
                          "#9c179e"
                        ],
                        [
                          0.4444444444444444,
                          "#bd3786"
                        ],
                        [
                          0.5555555555555556,
                          "#d8576b"
                        ],
                        [
                          0.6666666666666666,
                          "#ed7953"
                        ],
                        [
                          0.7777777777777778,
                          "#fb9f3a"
                        ],
                        [
                          0.8888888888888888,
                          "#fdca26"
                        ],
                        [
                          1,
                          "#f0f921"
                        ]
                      ],
                      "sequentialminus": [
                        [
                          0,
                          "#0d0887"
                        ],
                        [
                          0.1111111111111111,
                          "#46039f"
                        ],
                        [
                          0.2222222222222222,
                          "#7201a8"
                        ],
                        [
                          0.3333333333333333,
                          "#9c179e"
                        ],
                        [
                          0.4444444444444444,
                          "#bd3786"
                        ],
                        [
                          0.5555555555555556,
                          "#d8576b"
                        ],
                        [
                          0.6666666666666666,
                          "#ed7953"
                        ],
                        [
                          0.7777777777777778,
                          "#fb9f3a"
                        ],
                        [
                          0.8888888888888888,
                          "#fdca26"
                        ],
                        [
                          1,
                          "#f0f921"
                        ]
                      ]
                    },
                    "colorway": [
                      "#636efa",
                      "#EF553B",
                      "#00cc96",
                      "#ab63fa",
                      "#FFA15A",
                      "#19d3f3",
                      "#FF6692",
                      "#B6E880",
                      "#FF97FF",
                      "#FECB52"
                    ],
                    "font": {
                      "color": "#2a3f5f"
                    },
                    "geo": {
                      "bgcolor": "white",
                      "lakecolor": "white",
                      "landcolor": "#E5ECF6",
                      "showlakes": true,
                      "showland": true,
                      "subunitcolor": "white"
                    },
                    "hoverlabel": {
                      "align": "left"
                    },
                    "hovermode": "closest",
                    "mapbox": {
                      "style": "light"
                    },
                    "paper_bgcolor": "white",
                    "plot_bgcolor": "#E5ECF6",
                    "polar": {
                      "angularaxis": {
                        "gridcolor": "white",
                        "linecolor": "white",
                        "ticks": ""
                      },
                      "bgcolor": "#E5ECF6",
                      "radialaxis": {
                        "gridcolor": "white",
                        "linecolor": "white",
                        "ticks": ""
                      }
                    },
                    "scene": {
                      "xaxis": {
                        "backgroundcolor": "#E5ECF6",
                        "gridcolor": "white",
                        "gridwidth": 2,
                        "linecolor": "white",
                        "showbackground": true,
                        "ticks": "",
                        "zerolinecolor": "white"
                      },
                      "yaxis": {
                        "backgroundcolor": "#E5ECF6",
                        "gridcolor": "white",
                        "gridwidth": 2,
                        "linecolor": "white",
                        "showbackground": true,
                        "ticks": "",
                        "zerolinecolor": "white"
                      },
                      "zaxis": {
                        "backgroundcolor": "#E5ECF6",
                        "gridcolor": "white",
                        "gridwidth": 2,
                        "linecolor": "white",
                        "showbackground": true,
                        "ticks": "",
                        "zerolinecolor": "white"
                      }
                    },
                    "shapedefaults": {
                      "line": {
                        "color": "#2a3f5f"
                      }
                    },
                    "ternary": {
                      "aaxis": {
                        "gridcolor": "white",
                        "linecolor": "white",
                        "ticks": ""
                      },
                      "baxis": {
                        "gridcolor": "white",
                        "linecolor": "white",
                        "ticks": ""
                      },
                      "bgcolor": "#E5ECF6",
                      "caxis": {
                        "gridcolor": "white",
                        "linecolor": "white",
                        "ticks": ""
                      }
                    },
                    "title": {
                      "x": 0.05
                    },
                    "xaxis": {
                      "automargin": true,
                      "gridcolor": "white",
                      "linecolor": "white",
                      "ticks": "",
                      "title": {
                        "standoff": 15
                      },
                      "zerolinecolor": "white",
                      "zerolinewidth": 2
                    },
                    "yaxis": {
                      "automargin": true,
                      "gridcolor": "white",
                      "linecolor": "white",
                      "ticks": "",
                      "title": {
                        "standoff": 15
                      },
                      "zerolinecolor": "white",
                      "zerolinewidth": 2
                    }
                  }
                },
                "width": 800
              }
            }
          },
          "metadata": {},
          "output_type": "display_data"
        }
      ],
      "source": [
        "# 3D visualization\n",
        "\n",
        "import matplotlib.pyplot as plt\n",
        "import plotly.express as px # package for 3D visualization\n",
        "# scatter with predicted clusters\n",
        "fig = px.scatter_3d(X_pca, \n",
        "                    x=X_pca[:,0], \n",
        "                    y=X_pca[:,1], \n",
        "                    z=X_pca[:,2], \n",
        "                    color=labels, \n",
        "                    width=800, \n",
        "                    height=400)\n",
        "# tight layout\n",
        "fig.update_layout(margin=dict(l=0, r=0, b=0, t=0))\n",
        "fig.show()"
      ]
    },
    {
      "cell_type": "code",
      "execution_count": 20,
      "metadata": {
        "colab": {
          "base_uri": "https://localhost:8080/"
        },
        "id": "kDF7wuToXX80",
        "outputId": "12d35997-ffd5-44d5-f577-132f7161bbb5"
      },
      "outputs": [
        {
          "data": {
            "text/plain": [
              "array([[9.100e+00, 7.800e+00, 1.200e+00, 1.150e+01, 1.270e+02, 3.510e+00,\n",
              "        2.010e+00, 7.000e-01, 2.290e+00, 5.640e+00, 1.040e+00, 3.920e+00,\n",
              "        2.531e+03]])"
            ]
          },
          "execution_count": 20,
          "metadata": {},
          "output_type": "execute_result"
        }
      ],
      "source": [
        "def predict(centroids, X_test):\n",
        "    dist_test = distance.cdist(X_test, centroids)\n",
        "    test_labels = assign_cluster(dist_test)\n",
        "    return test_labels\n",
        "\n",
        "test_point = np.array([9.1, 7.8, 1.2, 11.5, 127, 3.51, 2.01, 0.7, 2.29, 5.64, 1.04, 3.92, 2531]).reshape(1,-1) # reshape from (d,) to (1, d)\n",
        "test_point"
      ]
    },
    {
      "cell_type": "code",
      "execution_count": 21,
      "metadata": {
        "colab": {
          "base_uri": "https://localhost:8080/"
        },
        "id": "Jqa_pqfJa59X",
        "outputId": "94005398-331e-42be-9b8c-ee41a9ef55da"
      },
      "outputs": [
        {
          "name": "stdout",
          "output_type": "stream",
          "text": [
            "Test point is belong to cluster [0]\n"
          ]
        }
      ],
      "source": [
        "print(\"Test point is belong to cluster {}\".format(predict(centroids, test_point)))"
      ]
    },
    {
      "cell_type": "code",
      "execution_count": null,
      "metadata": {
        "id": "upmdd_fMtCmJ"
      },
      "outputs": [],
      "source": []
    }
  ],
  "metadata": {
    "colab": {
      "provenance": []
    },
    "kernelspec": {
      "display_name": "base",
      "language": "python",
      "name": "python3"
    },
    "language_info": {
      "codemirror_mode": {
        "name": "ipython",
        "version": 3
      },
      "file_extension": ".py",
      "mimetype": "text/x-python",
      "name": "python",
      "nbconvert_exporter": "python",
      "pygments_lexer": "ipython3",
      "version": "3.9.13"
    },
    "vscode": {
      "interpreter": {
        "hash": "2043299c89c8cd0b4d1a6f5cf4529bd58e6a4e0fe3181a25e0d328c821cdc5c5"
      }
    }
  },
  "nbformat": 4,
  "nbformat_minor": 0
}
